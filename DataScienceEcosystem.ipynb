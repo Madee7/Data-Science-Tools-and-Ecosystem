{
 "cells": [
  {
   "cell_type": "markdown",
   "id": "f947c088-c4d0-4a35-9c33-781e9693e5e3",
   "metadata": {},
   "source": [
    "<h1>Data Science Tools and Ecosystem</h1>"
   ]
  },
  {
   "cell_type": "markdown",
   "id": "833f1aa8-2c74-4d24-871c-64f3319e6f2f",
   "metadata": {},
   "source": [
    "<h3>In this notebook, Data Science Tools and Ecosystem are summarized.</h3>"
   ]
  },
  {
   "cell_type": "markdown",
   "id": "ecc9b453-878b-4abb-85fc-e5ee7e46c6f3",
   "metadata": {
    "tags": []
   },
   "source": [
    "<h5>Some of the popular languages that Data Scientists use are:</h5>\n",
    "<li> Python </li>\n",
    "<li> R language </li>\n",
    "<li> Java script </li>\n",
    "<li> SQL </li>"
   ]
  },
  {
   "cell_type": "markdown",
   "id": "a40deb62-65f3-42c7-974c-6066d524f378",
   "metadata": {},
   "source": [
    "<h5>Some of the commonly used libraries used by Data Scientists include:</h5>\n",
    "<li> Pandas </li>\n",
    "<li> numpy </li>\n",
    "<li> keras </li>\n",
    "<li> pytorch </li>"
   ]
  },
  {
   "cell_type": "markdown",
   "id": "6c590ad0-9813-420f-9cd8-46a2fda50140",
   "metadata": {
    "tags": []
   },
   "source": [
    "|Data Science Tools|\n",
    "|------------------|\n",
    "|Hadoop|\n",
    "|MYSQL|\n",
    "|MongoDB|"
   ]
  },
  {
   "cell_type": "markdown",
   "id": "38f495a8-6afc-4a2a-a214-d9ad765c2ff2",
   "metadata": {},
   "source": [
    "<h3>Below are a few examples of evaluating arithmetic expressions in Python</h3>"
   ]
  },
  {
   "cell_type": "code",
   "execution_count": 7,
   "id": "c1d26c0c-7f04-4c3f-bc16-ca6e2f98b819",
   "metadata": {
    "tags": []
   },
   "outputs": [
    {
     "data": {
      "text/plain": [
       "17"
      ]
     },
     "execution_count": 7,
     "metadata": {},
     "output_type": "execute_result"
    }
   ],
   "source": [
    "#  This a simple arithmetic expression to mutiply then add integers\n",
    "(3*4)+5"
   ]
  },
  {
   "cell_type": "code",
   "execution_count": 8,
   "id": "a704ae3a-1aa2-4422-b24a-3514ac7e0896",
   "metadata": {
    "tags": []
   },
   "outputs": [
    {
     "data": {
      "text/plain": [
       "3.3333333333333335"
      ]
     },
     "execution_count": 8,
     "metadata": {},
     "output_type": "execute_result"
    }
   ],
   "source": [
    "# This will convert 200 minutes to hours by diving by 60\n",
    "200/60"
   ]
  },
  {
   "cell_type": "markdown",
   "id": "ac8a2671-1294-4a1b-a2f2-357b8e6c782d",
   "metadata": {
    "tags": []
   },
   "source": [
    "<h5>Objectives:</h5>\n",
    "<li>Some of the popular languages that Data Scientists use </li>\n",
    "<li>Some of the commonly used libraries used by Data Scientists include</li>\n",
    "<li>simple arithmetic expression to mutiply then add integers</li>\n",
    "<li>simple code to convert minutes to hours</li>"
   ]
  },
  {
   "cell_type": "markdown",
   "id": "1cb2c0b6-1246-4321-84ff-819ecebb4017",
   "metadata": {},
   "source": [
    "<h2>Author</h2>\n",
    "Mohamed Madeeh Hammad"
   ]
  },
  {
   "cell_type": "code",
   "execution_count": null,
   "id": "31884fb8-1650-4526-b019-683311beeacf",
   "metadata": {},
   "outputs": [],
   "source": []
  }
 ],
 "metadata": {
  "kernelspec": {
   "display_name": "Python",
   "language": "python",
   "name": "conda-env-python-py"
  },
  "language_info": {
   "codemirror_mode": {
    "name": "ipython",
    "version": 3
   },
   "file_extension": ".py",
   "mimetype": "text/x-python",
   "name": "python",
   "nbconvert_exporter": "python",
   "pygments_lexer": "ipython3",
   "version": "3.7.12"
  }
 },
 "nbformat": 4,
 "nbformat_minor": 5
}
